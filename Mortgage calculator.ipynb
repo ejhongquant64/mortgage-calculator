{
 "cells": [
  {
   "cell_type": "code",
   "execution_count": 1,
   "id": "2dbab266",
   "metadata": {},
   "outputs": [],
   "source": [
    "#Libraries\n",
    "import numpy as np\n",
    "import pandas as pd\n",
    "import numpy_financial as npf\n",
    "from datetime import date"
   ]
  },
  {
   "cell_type": "code",
   "execution_count": 2,
   "id": "7b0974ea-b23b-4993-837f-17e516acee1a",
   "metadata": {
    "pycharm": {
     "name": "#%%\n"
    }
   },
   "outputs": [],
   "source": [
    "#30-Year FIXED RATE\n",
    "def fixed_rate_mortgage(interest: float, years: int, payments_year: int, mortgage: int, start_date: str):\n",
    "  periods = years * payments_year\n",
    "  df = pd.DataFrame(index=range(1, periods+1))\n",
    "  df[\"Date\"] = pd.date_range(start_date, periods=periods, freq='MS', name='Payment Date').date\n",
    "  df[\"Payment\"] = -1 * npf.pmt(interest/12, periods,mortgage)\n",
    "  df[\"Interest Paid\"] = -1 * npf.ipmt(interest/payments_year, df.index, periods,mortgage)\n",
    "  df[\"Principal Paid\"] = -1 * npf.ppmt(interest/payments_year, df.index, periods,mortgage)\n",
    "  df['Ending Balance'] = mortgage - df['Principal Paid'].cumsum()\n",
    "  df[df['Ending Balance'] < 0] = 0\n",
    "  total_loan = loan + df['Interest Paid'].sum()\n",
    "  with pd.option_context(\n",
    "      'display.max_columns', None,\n",
    "      'display.float_format', '${:,.2f}'.format):\n",
    "    print(df)\n",
    "  print(f\"\\nTotal of the loan is: ${total_loan:,.2f}.\\n\")\n",
    "  return df"
   ]
  },
  {
   "cell_type": "markdown",
   "id": "7474816d-32ba-46d4-8524-9bfe21166213",
   "metadata": {
    "pycharm": {
     "name": "#%% md\n"
    }
   },
   "source": [
    "Here we enter the inputs for mortgage plan and run the function for generation of payment plan:"
   ]
  },
  {
   "cell_type": "code",
   "execution_count": 3,
   "id": "479e59cd-179b-4f59-b190-d83f12464eec",
   "metadata": {
    "pycharm": {
     "name": "#%%\n"
    }
   },
   "outputs": [
    {
     "name": "stdout",
     "output_type": "stream",
     "text": [
      "           Date   Payment  Interest Paid  Principal Paid  Ending Balance\n",
      "1    2001-01-01 $4,774.15      $3,333.33       $1,440.82     $998,559.18\n",
      "2    2001-02-01 $4,774.15      $3,328.53       $1,445.62     $997,113.56\n",
      "3    2001-03-01 $4,774.15      $3,323.71       $1,450.44     $995,663.12\n",
      "4    2001-04-01 $4,774.15      $3,318.88       $1,455.28     $994,207.84\n",
      "5    2001-05-01 $4,774.15      $3,314.03       $1,460.13     $992,747.71\n",
      "..          ...       ...            ...             ...             ...\n",
      "356  2030-08-01 $4,774.15         $78.78       $4,695.37      $18,938.53\n",
      "357  2030-09-01 $4,774.15         $63.13       $4,711.02      $14,227.50\n",
      "358  2030-10-01 $4,774.15         $47.43       $4,726.73       $9,500.78\n",
      "359  2030-11-01 $4,774.15         $31.67       $4,742.48       $4,758.29\n",
      "360  2030-12-01 $4,774.15         $15.86       $4,758.29           $0.00\n",
      "\n",
      "[360 rows x 5 columns]\n",
      "\n",
      "Total of the loan is: $1,718,695.06.\n",
      "\n"
     ]
    }
   ],
   "source": [
    "interest = 0.04\n",
    "years = 30\n",
    "payments_year = 12\n",
    "\n",
    "#loan = input(\"Write the amount you want to loan \\n\")\n",
    "#loan = float(loan)\n",
    "loan = 1000000\n",
    "\n",
    "#start_date = input(\"What is the start date, in YYYY-MM-DD format\")\n",
    "start_date = \"2001-01-01\"\n",
    "year, month, day = map(int, start_date.split(\"-\"))\n",
    "start_date = date(year, month, day)\n",
    "\n",
    "mydf = fixed_rate_mortgage(interest, years, payments_year, loan, start_date)"
   ]
  },
  {
   "cell_type": "code",
   "execution_count": 4,
   "id": "173b3c27-13c2-4ea9-bc8f-edd4aa3fad6f",
   "metadata": {
    "pycharm": {
     "name": "#%%\n"
    }
   },
   "outputs": [
    {
     "data": {
      "text/html": [
       "<div>\n",
       "<style scoped>\n",
       "    .dataframe tbody tr th:only-of-type {\n",
       "        vertical-align: middle;\n",
       "    }\n",
       "\n",
       "    .dataframe tbody tr th {\n",
       "        vertical-align: top;\n",
       "    }\n",
       "\n",
       "    .dataframe thead th {\n",
       "        text-align: right;\n",
       "    }\n",
       "</style>\n",
       "<table border=\"1\" class=\"dataframe\">\n",
       "  <thead>\n",
       "    <tr style=\"text-align: right;\">\n",
       "      <th></th>\n",
       "      <th>Date</th>\n",
       "      <th>Payment</th>\n",
       "      <th>Interest Paid</th>\n",
       "      <th>Principal Paid</th>\n",
       "      <th>Ending Balance</th>\n",
       "    </tr>\n",
       "  </thead>\n",
       "  <tbody>\n",
       "    <tr>\n",
       "      <th>1</th>\n",
       "      <td>2001-01-01</td>\n",
       "      <td>4774.152955</td>\n",
       "      <td>3333.333333</td>\n",
       "      <td>1440.819621</td>\n",
       "      <td>9.985592e+05</td>\n",
       "    </tr>\n",
       "    <tr>\n",
       "      <th>2</th>\n",
       "      <td>2001-02-01</td>\n",
       "      <td>4774.152955</td>\n",
       "      <td>3328.530601</td>\n",
       "      <td>1445.622353</td>\n",
       "      <td>9.971136e+05</td>\n",
       "    </tr>\n",
       "    <tr>\n",
       "      <th>3</th>\n",
       "      <td>2001-03-01</td>\n",
       "      <td>4774.152955</td>\n",
       "      <td>3323.711860</td>\n",
       "      <td>1450.441095</td>\n",
       "      <td>9.956631e+05</td>\n",
       "    </tr>\n",
       "    <tr>\n",
       "      <th>4</th>\n",
       "      <td>2001-04-01</td>\n",
       "      <td>4774.152955</td>\n",
       "      <td>3318.877056</td>\n",
       "      <td>1455.275898</td>\n",
       "      <td>9.942078e+05</td>\n",
       "    </tr>\n",
       "    <tr>\n",
       "      <th>5</th>\n",
       "      <td>2001-05-01</td>\n",
       "      <td>4774.152955</td>\n",
       "      <td>3314.026137</td>\n",
       "      <td>1460.126818</td>\n",
       "      <td>9.927477e+05</td>\n",
       "    </tr>\n",
       "    <tr>\n",
       "      <th>...</th>\n",
       "      <td>...</td>\n",
       "      <td>...</td>\n",
       "      <td>...</td>\n",
       "      <td>...</td>\n",
       "      <td>...</td>\n",
       "    </tr>\n",
       "    <tr>\n",
       "      <th>356</th>\n",
       "      <td>2030-08-01</td>\n",
       "      <td>4774.152955</td>\n",
       "      <td>78.779671</td>\n",
       "      <td>4695.373283</td>\n",
       "      <td>1.893853e+04</td>\n",
       "    </tr>\n",
       "    <tr>\n",
       "      <th>357</th>\n",
       "      <td>2030-09-01</td>\n",
       "      <td>4774.152955</td>\n",
       "      <td>63.128427</td>\n",
       "      <td>4711.024527</td>\n",
       "      <td>1.422750e+04</td>\n",
       "    </tr>\n",
       "    <tr>\n",
       "      <th>358</th>\n",
       "      <td>2030-10-01</td>\n",
       "      <td>4774.152955</td>\n",
       "      <td>47.425012</td>\n",
       "      <td>4726.727943</td>\n",
       "      <td>9.500776e+03</td>\n",
       "    </tr>\n",
       "    <tr>\n",
       "      <th>359</th>\n",
       "      <td>2030-11-01</td>\n",
       "      <td>4774.152955</td>\n",
       "      <td>31.669252</td>\n",
       "      <td>4742.483702</td>\n",
       "      <td>4.758292e+03</td>\n",
       "    </tr>\n",
       "    <tr>\n",
       "      <th>360</th>\n",
       "      <td>2030-12-01</td>\n",
       "      <td>4774.152955</td>\n",
       "      <td>15.860973</td>\n",
       "      <td>4758.291981</td>\n",
       "      <td>2.316665e-08</td>\n",
       "    </tr>\n",
       "  </tbody>\n",
       "</table>\n",
       "<p>360 rows × 5 columns</p>\n",
       "</div>"
      ],
      "text/plain": [
       "           Date      Payment  Interest Paid  Principal Paid  Ending Balance\n",
       "1    2001-01-01  4774.152955    3333.333333     1440.819621    9.985592e+05\n",
       "2    2001-02-01  4774.152955    3328.530601     1445.622353    9.971136e+05\n",
       "3    2001-03-01  4774.152955    3323.711860     1450.441095    9.956631e+05\n",
       "4    2001-04-01  4774.152955    3318.877056     1455.275898    9.942078e+05\n",
       "5    2001-05-01  4774.152955    3314.026137     1460.126818    9.927477e+05\n",
       "..          ...          ...            ...             ...             ...\n",
       "356  2030-08-01  4774.152955      78.779671     4695.373283    1.893853e+04\n",
       "357  2030-09-01  4774.152955      63.128427     4711.024527    1.422750e+04\n",
       "358  2030-10-01  4774.152955      47.425012     4726.727943    9.500776e+03\n",
       "359  2030-11-01  4774.152955      31.669252     4742.483702    4.758292e+03\n",
       "360  2030-12-01  4774.152955      15.860973     4758.291981    2.316665e-08\n",
       "\n",
       "[360 rows x 5 columns]"
      ]
     },
     "execution_count": 4,
     "metadata": {},
     "output_type": "execute_result"
    }
   ],
   "source": [
    "mydf.to_csv(f\"Montly_Payment_Plan_IR={interest}_YR={years}_30yr.csv\")\n",
    "mydf"
   ]
  },
  {
   "cell_type": "code",
   "execution_count": 5,
   "id": "b9da6c3a",
   "metadata": {
    "pycharm": {
     "name": "#%%\n"
    }
   },
   "outputs": [],
   "source": [
    "#20-Year FIXED RATE"
   ]
  },
  {
   "cell_type": "code",
   "execution_count": 6,
   "id": "b0816a87",
   "metadata": {
    "pycharm": {
     "name": "#%%\n"
    }
   },
   "outputs": [],
   "source": [
    "interest = 0.025\n",
    "years = 20\n",
    "payments_year = 12\n",
    "mortgage = 1000000\n",
    "start_date = (date(2021, 1, 1))"
   ]
  },
  {
   "cell_type": "code",
   "execution_count": 7,
   "id": "38bffd03",
   "metadata": {
    "pycharm": {
     "name": "#%%\n"
    }
   },
   "outputs": [],
   "source": [
    "rng = pd.date_range(start_date, periods=years * payments_year, freq='MS')\n",
    "rng.name = \"Payment Date\"\n",
    "df = pd.DataFrame(index=rng, columns=['Payment', 'Principal Paid', 'Interest Paid', 'Ending Balance'], dtype='float')\n",
    "df.reset_index(inplace=True)\n",
    "df.index += 1\n",
    "df.index.name = \"Period\""
   ]
  },
  {
   "cell_type": "code",
   "execution_count": 8,
   "id": "f58e6416",
   "metadata": {
    "pycharm": {
     "name": "#%%\n"
    }
   },
   "outputs": [],
   "source": [
    "df[\"Payment\"] = -1 * npf.pmt(interest/12, years*payments_year,mortgage)\n",
    "df[\"Interest Paid\"] = -1 * npf.ipmt(interest/payments_year, df.index, years*payments_year,mortgage)\n",
    "df[\"Principal Paid\"] = -1 * npf.ppmt(interest/payments_year, df.index, years*payments_year,mortgage)\n",
    "df[\"Ending Balance\"] = 0\n",
    "df.loc[1, \"Ending Balance\"] = mortgage - df.loc[1, \"Principal Paid\"]\n",
    "df = df.round(2)"
   ]
  },
  {
   "cell_type": "code",
   "execution_count": 9,
   "id": "c685c76a",
   "metadata": {
    "pycharm": {
     "name": "#%%\n"
    }
   },
   "outputs": [
    {
     "name": "stdout",
     "output_type": "stream",
     "text": [
      "       Payment Date  Payment  Principal Paid  Interest Paid  Ending Balance\n",
      "Period                                                                     \n",
      "1        2021-01-01  5299.03         3215.70        2083.33       996784.30\n",
      "2        2021-02-01  5299.03         3222.39        2076.63       993561.91\n",
      "3        2021-03-01  5299.03         3229.11        2069.92       990332.80\n",
      "4        2021-04-01  5299.03         3235.84        2063.19       987096.96\n",
      "5        2021-05-01  5299.03         3242.58        2056.45       983854.38\n",
      "...             ...      ...             ...            ...             ...\n",
      "236      2040-08-01  5299.03         5244.17          54.85        21086.21\n",
      "237      2040-09-01  5299.03         5255.10          43.93        15831.11\n",
      "238      2040-10-01  5299.03         5266.05          32.98        10565.06\n",
      "239      2040-11-01  5299.03         5277.02          22.01         5288.04\n",
      "240      2040-12-01  5299.03         5288.01          11.02            0.03\n",
      "\n",
      "[240 rows x 5 columns]\n"
     ]
    }
   ],
   "source": [
    "for period in range(2, len(df)+1):\n",
    "    previous_balance = df.loc[period-1, \"Ending Balance\"]\n",
    "    principal_paid = df.loc[period, \"Principal Paid\"]\n",
    "    \n",
    "    if previous_balance == 0:\n",
    "        df.loc[period, ['Payment', 'Principal Paid', 'Interest Paid', 'Ending Balance']] == 0\n",
    "        continue\n",
    "    elif principal_paid <= previous_balance:\n",
    "        df.loc[period, \"Ending Balance\"] = previous_balance - principal_paid\n",
    "        \n",
    "print(df)"
   ]
  },
  {
   "cell_type": "code",
   "execution_count": 10,
   "id": "32ac1440",
   "metadata": {
    "pycharm": {
     "name": "#%%\n"
    }
   },
   "outputs": [],
   "source": [
    "df.to_csv(f\"Montly_Payment_Plan_IR={interest}_YR={years}_20yr.csv\")"
   ]
  },
  {
   "cell_type": "code",
   "execution_count": 11,
   "id": "1e396e43",
   "metadata": {
    "jupyter": {
     "outputs_hidden": false
    },
    "pycharm": {
     "name": "#%%\n"
    }
   },
   "outputs": [],
   "source": [
    "def fixed_rate_mortgage2(interest: float, years: int, payments_year: int, mortgage: int, start_date: str):\n",
    "    periods = years * payments_year\n",
    "    df = pd.DataFrame(index=range(1, periods+1))\n",
    "    df[\"Date\"] = pd.date_range(start_date, periods=periods, freq='MS', name='Payment Date').date\n",
    "    df[\"Interest Rate\"] = interest\n",
    "    # -IPMT([@[ARM 7/1]]/12;1;DurationOfLoan-ROWS($C$4:C4)+1;\n",
    "    # -IPMT([@[ARM 7/1]]/12;1;DurationOfLoan-ROWS($C$4:C6)+1;[@[UPB start]])\n",
    "    df[\"Interest Paid\"] = -1 * npf.ipmt(df[\"Interest Rate\"]/payments_year, 132, periods, mortgage)\n",
    "    #df[\"Interest Paid\"] = -1 * npf.ipmt(df[\"Interest Rate\"]/payments_year, df.index, years*payments_year-df.index+1, mortgage)\n",
    "    # -PPMT([@[ARM 7/1]]/12;1;DurationOfLoan-ROWS($C$4:C13)+1\n",
    "    df[\"Principal Paid\"] = -1 * npf.ppmt(df[\"Interest Rate\"]/payments_year, 132, periods, mortgage)\n",
    "    #df[\"Principal Paid\"] = -1 * npf.ppmt(df[\"Interest Rate\"]/payments_year, df.index, years*payments_year-df.index+1, mortgage)\n",
    "    #df[\"Payment\"]        = -1 * npf.pmt( df[\"Interest Rate\"]/payments_year, periods, mortgage)\n",
    "    df[\"Payment\"]        = df[\"Principal Paid\"] + df[\"Interest Paid\"]\n",
    "    \n",
    "    df['Ending Balance'] = mortgage - df['Principal Paid'].cumsum()\n",
    "    df[df['Ending Balance'] < 0] = 0\n",
    "    total_loan = loan + df['Interest Paid'].sum()\n",
    "    print(df)\n",
    "    print(f\"\\nTotal of the loan is: ${total_loan:,.2f}.\\n\")\n",
    "    return df"
   ]
  },
  {
   "cell_type": "code",
   "execution_count": 12,
   "id": "3f4488fc",
   "metadata": {
    "jupyter": {
     "outputs_hidden": false
    },
    "pycharm": {
     "name": "#%%\n"
    }
   },
   "outputs": [],
   "source": [
    "#For 20 years yearly averaged rates, the following are assumed.\n",
    "movingRates = [0.08033, # year 2001\n",
    "               0.08033, # year 2002\n",
    "               0.08033, # year 2003\n",
    "               0.08033, # year 2004\n",
    "               0.08033, # year 2005\n",
    "               0.08033, # year 2006\n",
    "               0.08033, # year 2007\n",
    "               0.06337, # year 2008\n",
    "               0.06027, # year 2009\n",
    "               0.05037, # year 2010\n",
    "               0.04690, # year 2011\n",
    "               0.04448, # year 2012\n",
    "               0.03658, # year 2013\n",
    "               0.03976, # year 2014\n",
    "               0.04162, # year 2015\n",
    "               0.03851, # year 2016\n",
    "               0.03654, # year 2017\n",
    "               0.03990, # year 2018\n",
    "               0.04545, # year 2019\n",
    "               0.03936  # year 2020 \n",
    "              ]\n",
    "ARM71Rates = np.repeat(movingRates, 12)   # convert yearly rates to montly repetitions\n",
    "\n",
    "interest = ARM71Rates\n",
    "years = 20\n",
    "payments_year = 12\n",
    "\n",
    "#loan = input(\"Write the amount you want to loan \\n\")\n",
    "#loan = float(loan)\n",
    "loan = 1000000\n",
    "\n",
    "#start_date = input(\"What is the start date, in YYYY-MM-DD format\")\n",
    "start_date = \"2001-01-01\"\n",
    "year, month, day = map(int, start_date.split(\"-\"))\n",
    "start_date = date(year, month, day)"
   ]
  },
  {
   "cell_type": "code",
   "execution_count": 13,
   "id": "43ccd596-c1a1-4d1c-abd6-dcc3b9466baf",
   "metadata": {},
   "outputs": [
    {
     "name": "stdout",
     "output_type": "stream",
     "text": [
      "           Date  Interest Rate  Interest Paid  Principal Paid      Payment  \\\n",
      "1    2001-01-01        0.08033    4332.969981     4051.980116  8384.950096   \n",
      "2    2001-02-01        0.08033    4332.969981     4051.980116  8384.950096   \n",
      "3    2001-03-01        0.08033    4332.969981     4051.980116  8384.950096   \n",
      "4    2001-04-01        0.08033    4332.969981     4051.980116  8384.950096   \n",
      "5    2001-05-01        0.08033    4332.969981     4051.980116  8384.950096   \n",
      "..          ...            ...            ...             ...          ...   \n",
      "236  2020-08-01        0.03936    1808.936467     4217.196347  6026.132814   \n",
      "237  2020-09-01        0.03936    1808.936467     4217.196347  6026.132814   \n",
      "238  2020-10-01        0.03936    1808.936467     4217.196347  6026.132814   \n",
      "239  2020-11-01        0.03936    1808.936467     4217.196347  6026.132814   \n",
      "240  2020-12-01        0.03936    1808.936467     4217.196347  6026.132814   \n",
      "\n",
      "     Ending Balance  \n",
      "1     995948.019884  \n",
      "2     991896.039769  \n",
      "3     987844.059653  \n",
      "4     983792.079538  \n",
      "5     979740.099422  \n",
      "..              ...  \n",
      "236    20848.124632  \n",
      "237    16630.928285  \n",
      "238    12413.731939  \n",
      "239     8196.535592  \n",
      "240     3979.339245  \n",
      "\n",
      "[240 rows x 6 columns]\n",
      "\n",
      "Total of the loan is: $1,695,361.33.\n",
      "\n"
     ]
    }
   ],
   "source": [
    "mydf = fixed_rate_mortgage2(interest, years, payments_year, loan, start_date)"
   ]
  },
  {
   "cell_type": "code",
   "execution_count": 14,
   "id": "8c418ffd",
   "metadata": {
    "jupyter": {
     "outputs_hidden": false
    },
    "pycharm": {
     "name": "#%%\n"
    }
   },
   "outputs": [],
   "source": [
    "mydf.to_csv(f\"Montly_Payment_Plan_IR=ARM71_YR={years}_20yrvar.csv\")"
   ]
  }
 ],
 "metadata": {
  "kernelspec": {
   "display_name": "Python 3 (ipykernel)",
   "language": "python",
   "name": "python3"
  },
  "language_info": {
   "codemirror_mode": {
    "name": "ipython",
    "version": 3
   },
   "file_extension": ".py",
   "mimetype": "text/x-python",
   "name": "python",
   "nbconvert_exporter": "python",
   "pygments_lexer": "ipython3",
   "version": "3.9.7"
  }
 },
 "nbformat": 4,
 "nbformat_minor": 5
}
